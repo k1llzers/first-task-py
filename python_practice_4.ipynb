{
 "nbformat": 4,
 "nbformat_minor": 0,
 "metadata": {
  "colab": {
   "provenance": []
  },
  "kernelspec": {
   "name": "python3",
   "display_name": "Python 3"
  },
  "language_info": {
   "name": "python"
  }
 },
 "cells": [
  {
   "cell_type": "markdown",
   "source": [
    "# I. Functions. Arguments."
   ],
   "metadata": {
    "id": "kXpppdVm6wFy"
   }
  },
  {
   "cell_type": "markdown",
   "source": [
    "1. (5б) Назвіть основні 4 смислові  частини, з яких складається функція."
   ],
   "metadata": {
    "id": "u_krJdlbAkVz"
   }
  },
  {
   "cell_type": "markdown",
   "source": [
    "Function name\n",
    "parameters(args, kwargs)\n",
    "function body\n",
    "return statement"
   ],
   "metadata": {
    "id": "KKTrTXmHAptb"
   }
  },
  {
   "cell_type": "markdown",
   "source": [
    "2. (3б) Визначте функцію, що приймає 2 аргументи та повертає результат ділення 1го аргумента на інший."
   ],
   "metadata": {
    "id": "ORM4PqJQAtDM"
   }
  },
  {
   "cell_type": "code",
   "execution_count": 17,
   "metadata": {
    "id": "EuDx-z8M6sLo",
    "colab": {
     "base_uri": "https://localhost:8080/"
    },
    "outputId": "435459e6-2e86-442a-b6f7-c1669784935c"
   },
   "outputs": [
    {
     "output_type": "stream",
     "name": "stdout",
     "text": [
      "2.0\n",
      "0.5\n",
      "0.2\n"
     ]
    }
   ],
   "source": [
    "def divide(divident, divisor):\n",
    "    return divident / divisor\n",
    "print(divide(10, 5))\n",
    "print(divide(4, 8))\n",
    "print(divide(1, 5))"
   ]
  },
  {
   "cell_type": "markdown",
   "source": [
    "3. (2б) Викличте вище визначену функцію, де другий аргумент дорівнює 0."
   ],
   "metadata": {
    "id": "5joQGQ-SAyMe"
   }
  },
  {
   "cell_type": "code",
   "source": [
    "divide(10, 0)"
   ],
   "metadata": {
    "id": "V5cBV1LOA3d-",
    "colab": {
     "base_uri": "https://localhost:8080/",
     "height": 263
    },
    "outputId": "9a196162-60ac-47de-df6c-9e1cf473f00f"
   },
   "execution_count": 18,
   "outputs": [
    {
     "output_type": "error",
     "ename": "ZeroDivisionError",
     "evalue": "division by zero",
     "traceback": [
      "\u001B[0;31m---------------------------------------------------------------------------\u001B[0m",
      "\u001B[0;31mZeroDivisionError\u001B[0m                         Traceback (most recent call last)",
      "\u001B[0;32m<ipython-input-18-ccc290a9b5cb>\u001B[0m in \u001B[0;36m<cell line: 1>\u001B[0;34m()\u001B[0m\n\u001B[0;32m----> 1\u001B[0;31m \u001B[0mdivide\u001B[0m\u001B[0;34m(\u001B[0m\u001B[0;36m10\u001B[0m\u001B[0;34m,\u001B[0m \u001B[0;36m0\u001B[0m\u001B[0;34m)\u001B[0m\u001B[0;34m\u001B[0m\u001B[0;34m\u001B[0m\u001B[0m\n\u001B[0m",
      "\u001B[0;32m<ipython-input-17-553c84d5eab8>\u001B[0m in \u001B[0;36mdivide\u001B[0;34m(divident, divisor)\u001B[0m\n\u001B[1;32m      1\u001B[0m \u001B[0;32mdef\u001B[0m \u001B[0mdivide\u001B[0m\u001B[0;34m(\u001B[0m\u001B[0mdivident\u001B[0m\u001B[0;34m,\u001B[0m \u001B[0mdivisor\u001B[0m\u001B[0;34m)\u001B[0m\u001B[0;34m:\u001B[0m\u001B[0;34m\u001B[0m\u001B[0;34m\u001B[0m\u001B[0m\n\u001B[0;32m----> 2\u001B[0;31m     \u001B[0;32mreturn\u001B[0m \u001B[0mdivident\u001B[0m \u001B[0;34m/\u001B[0m \u001B[0mdivisor\u001B[0m\u001B[0;34m\u001B[0m\u001B[0;34m\u001B[0m\u001B[0m\n\u001B[0m\u001B[1;32m      3\u001B[0m \u001B[0mprint\u001B[0m\u001B[0;34m(\u001B[0m\u001B[0mdivide\u001B[0m\u001B[0;34m(\u001B[0m\u001B[0;36m10\u001B[0m\u001B[0;34m,\u001B[0m \u001B[0;36m5\u001B[0m\u001B[0;34m)\u001B[0m\u001B[0;34m)\u001B[0m\u001B[0;34m\u001B[0m\u001B[0;34m\u001B[0m\u001B[0m\n\u001B[1;32m      4\u001B[0m \u001B[0mprint\u001B[0m\u001B[0;34m(\u001B[0m\u001B[0mdivide\u001B[0m\u001B[0;34m(\u001B[0m\u001B[0;36m4\u001B[0m\u001B[0;34m,\u001B[0m \u001B[0;36m8\u001B[0m\u001B[0;34m)\u001B[0m\u001B[0;34m)\u001B[0m\u001B[0;34m\u001B[0m\u001B[0;34m\u001B[0m\u001B[0m\n\u001B[1;32m      5\u001B[0m \u001B[0mprint\u001B[0m\u001B[0;34m(\u001B[0m\u001B[0mdivide\u001B[0m\u001B[0;34m(\u001B[0m\u001B[0;36m1\u001B[0m\u001B[0;34m,\u001B[0m \u001B[0;36m5\u001B[0m\u001B[0;34m)\u001B[0m\u001B[0;34m)\u001B[0m\u001B[0;34m\u001B[0m\u001B[0;34m\u001B[0m\u001B[0m\n",
      "\u001B[0;31mZeroDivisionError\u001B[0m: division by zero"
     ]
    }
   ]
  },
  {
   "cell_type": "markdown",
   "source": [
    "4. (4б) Перевизначте функцію так, щоби у випадку ділення на 0 функція повертала None, а в решті випадків - результат розрахунків."
   ],
   "metadata": {
    "id": "QyimWgW8A43-"
   }
  },
  {
   "cell_type": "code",
   "source": [
    "def divide(divident, divisor):\n",
    "  if divisor == 0:\n",
    "    return None\n",
    "  return  divident / divisor\n",
    "print(divide(1, 0))"
   ],
   "metadata": {
    "id": "7VIODtSjA8Ek",
    "colab": {
     "base_uri": "https://localhost:8080/"
    },
    "outputId": "99128c2d-8cad-4e12-da0a-30ae38f8565f"
   },
   "execution_count": 54,
   "outputs": [
    {
     "output_type": "stream",
     "name": "stdout",
     "text": [
      "None\n"
     ]
    }
   ]
  },
  {
   "cell_type": "markdown",
   "source": [
    "5. (5б) Визначте функцію, що віднімає одне число від іншого (підказка: це буде 2 аргументи функції). При чому, якщо не визначити, скільки саме має бути віднято від числа, за замовчуванням має відніматися 1. Викличте функцію, передаючи тільки один аргумент."
   ],
   "metadata": {
    "id": "Y8mN0GfkA81l"
   }
  },
  {
   "cell_type": "code",
   "source": [
    "def substraction(minued, subtrahend = 1):\n",
    "  return minued - subtrahend\n",
    "print(substraction(5,4))\n",
    "print(substraction(5))"
   ],
   "metadata": {
    "id": "vg1kxkdgBA50",
    "colab": {
     "base_uri": "https://localhost:8080/"
    },
    "outputId": "afc0576a-2a0d-443d-f127-7d761edf2982"
   },
   "execution_count": 55,
   "outputs": [
    {
     "output_type": "stream",
     "name": "stdout",
     "text": [
      "1\n",
      "4\n"
     ]
    }
   ]
  },
  {
   "cell_type": "markdown",
   "source": [
    "6. (7б) Визначте функцію, яка приймає iterable (ітерабельний обʼєкт, напр. список), що складається з 7ми рядкових значень - назв погодних умов (напр. \"sunny\") за кожен день у тижні. Повертає функція словник, де ключами є рядки з погодними умовами, а значеннями - кількість разів, скільки дана погода була протягом тижня (напр. {'sunny': 1, ...}). Викличте цю функцію та виведіть результат її роботи на екран."
   ],
   "metadata": {
    "id": "D3mwQGNOBBs4"
   }
  },
  {
   "cell_type": "code",
   "source": [
    "def statistic(forecast):\n",
    "  result = dict()\n",
    "  for weather in forecast:\n",
    "    if not weather in result:\n",
    "      result[weather] = 1\n",
    "    else:\n",
    "      result[weather] += 1\n",
    "  return result\n",
    "forecast = [\"sunny\", \"windy\", \"rainy\", \"snowy\", \"windy\", \"rainy\", \"sunny\"]\n",
    "print(statistic(forecast))"
   ],
   "metadata": {
    "id": "OsWm-hKcBFyn",
    "colab": {
     "base_uri": "https://localhost:8080/"
    },
    "outputId": "3726b452-b0ea-4bc5-bc13-29e0038bc2dd"
   },
   "execution_count": 27,
   "outputs": [
    {
     "output_type": "stream",
     "name": "stdout",
     "text": [
      "{'sunny': 2, 'windy': 2, 'rainy': 2, 'snowy': 1}\n"
     ]
    }
   ]
  },
  {
   "cell_type": "markdown",
   "source": [
    "7. (15б) Напишіть програму, яка б шукала необхідне число у впорядкованому списку цілочислених значень, де\n",
    "число має вводитись з консолі.\n",
    "власне алгоритм пошуку винесений в окрему функцію, яка повертає булеве значення (знайдено число - True, не знайдено - False).\n",
    "в залежності від результату функції, виведіть на екран повідомлення про успішний або ж неуспішний пошук.\n",
    "Зауваження: використовувати оператор in заборонено."
   ],
   "metadata": {
    "id": "RMiCcdOsBKQT"
   }
  },
  {
   "cell_type": "code",
   "source": [
    "def binary_search(number, numbers):\n",
    "  low = 0\n",
    "  high = len(numbers) - 1\n",
    "  while low <= high:\n",
    "    mid = (high + low) // 2\n",
    "    if numbers[mid] < number:\n",
    "      low = mid + 1\n",
    "    elif numbers[mid] > number:\n",
    "      high = mid - 1\n",
    "    else:\n",
    "      return True\n",
    "  return False\n",
    "numbers = [1, 3, 4, 5, 7, 8, 10, 11, 12]\n",
    "number = int(input())\n",
    "result = binary_search(number, numbers)\n",
    "if result:\n",
    "  print(f\"{number} present in list\")\n",
    "else:\n",
    "  print(f\"{number} isn`t present in list\")"
   ],
   "metadata": {
    "id": "UNCZg65OBOy-",
    "colab": {
     "base_uri": "https://localhost:8080/"
    },
    "outputId": "7c666f4b-e0a6-498b-b2bb-b8ab34dd218b"
   },
   "execution_count": 37,
   "outputs": [
    {
     "output_type": "stream",
     "name": "stdout",
     "text": [
      "10\n",
      "10 present in list\n"
     ]
    }
   ]
  },
  {
   "cell_type": "markdown",
   "source": [
    "# II. Lambda functions."
   ],
   "metadata": {
    "id": "Ae1n_OvLBTsy"
   }
  },
  {
   "cell_type": "markdown",
   "source": [
    "8. (4б) В яких випадках варто використовувати лямбда-функції?"
   ],
   "metadata": {
    "id": "xaD_wSlaCWen"
   }
  },
  {
   "cell_type": "markdown",
   "source": [
    "We should use lambda when we don't need to create separated function, usually it would be simple function that we use it in one part of code, it would be anonymous and we can`t call it from another part of code. "
   ],
   "metadata": {
    "id": "42MB6OoLCakR"
   }
  },
  {
   "cell_type": "markdown",
   "source": [
    "9. (9б) Визначте список з рядками. Після цього визначте анонімну функцію для отримання першого символу у верхньому регістрі для кожного рядка списку.\n",
    "Підказка: використовуйте анонімну функцію в якості агрумента до вбудованої ф-ції, яка створена для застосування функцій над iterable обʼєктами. Результат виведіть на екран у вигляді кортежу."
   ],
   "metadata": {
    "id": "USrzrk7GCedk"
   }
  },
  {
   "cell_type": "code",
   "source": [
    "strings = [\"man\", \"woman\", \"Python\", \"java\", \"go\", \"fortran\"]\n",
    "result = tuple(map(lambda string: string[0].upper(), strings))\n",
    "print(result)"
   ],
   "metadata": {
    "id": "M8QWUsMlCjWH",
    "colab": {
     "base_uri": "https://localhost:8080/"
    },
    "outputId": "2cf522c4-5238-42a5-f837-356be9600b00"
   },
   "execution_count": 42,
   "outputs": [
    {
     "output_type": "stream",
     "name": "stdout",
     "text": [
      "('M', 'W', 'P', 'J', 'G', 'F')\n"
     ]
    }
   ]
  },
  {
   "cell_type": "markdown",
   "source": [
    "10. (10б) Визначте список з числовими значеннями (і цілими, і з рухомою комою). а) Відфільтруйте всі числа, які діляться націло на 3 за допомогою вбудованої функції та анонімної функції в якості аргумента). Збережіть результат у змінній, не приводяти явно до будь-якого типу. б) Використовуючи результат на кроці 10.а у якості аргументу, та за допомогою лямбда-функції в якості іншого аргументу до вбудованої функції, додайте до кожного елементу число 1 та опісля зведіть у квадрат. Остаточний результат приведіть явно до списку та виведіть на екран."
   ],
   "metadata": {
    "id": "9fyUhXOoCtGp"
   }
  },
  {
   "cell_type": "code",
   "source": [
    "numbers = [1, 3, 4.5, 5.1, 6, 7, 8, 9.0, 10, 11, 12]\n",
    "filtered_numbers = filter(lambda number: number % 3 == 0, numbers)\n",
    "result = list(map(lambda number: (number + 1) ** 2, filtered_numbers))\n",
    "print(result)"
   ],
   "metadata": {
    "id": "exEx2_okCsql",
    "colab": {
     "base_uri": "https://localhost:8080/"
    },
    "outputId": "cdd0da9d-6e8d-4daf-bbb4-fc4da3317732"
   },
   "execution_count": 47,
   "outputs": [
    {
     "output_type": "stream",
     "name": "stdout",
     "text": [
      "[16, 49, 100.0, 169]\n"
     ]
    }
   ]
  },
  {
   "cell_type": "markdown",
   "source": [
    "# III. Decorators."
   ],
   "metadata": {
    "id": "o_x8cG_WC7jp"
   }
  },
  {
   "cell_type": "markdown",
   "source": [
    "11. (11б) Визначте декоратор, який би виводив у консоль повідомлення про початок роботи і назву функції (напр. my_function._ _ name _ _), а після відпрацювання функції - повідомлення про закінчення роботи і назву функції, що задекорована."
   ],
   "metadata": {
    "id": "mhxS4-mfC8LQ"
   }
  },
  {
   "cell_type": "code",
   "source": [
    "def first_decorator(func):\n",
    "  def wrapper(*args, **kwargs):\n",
    "    print(f\"Decorator starts with function: {func.__name__}\")\n",
    "    result = func(*args, **kwargs)\n",
    "    print(f\"Decorator finishes with function: {func.__name__}\")\n",
    "    return result\n",
    "  return wrapper"
   ],
   "metadata": {
    "id": "srd1ygWjDGhO"
   },
   "execution_count": 53,
   "outputs": []
  },
  {
   "cell_type": "markdown",
   "source": [
    "12. (4б) Задекоруйте двома різними способами функції з завдання 4 та 5 декоратором із завдання 11. (**УВАГА**: не декоруйте функції двічі!)."
   ],
   "metadata": {
    "id": "rxGZwVBiDph3"
   }
  },
  {
   "cell_type": "code",
   "source": [
    "divide = first_decorator(divide)\n",
    "\n",
    "@first_decorator\n",
    "def substraction(minued, subtrahend=1):\n",
    "  return minued - subtrahend"
   ],
   "metadata": {
    "id": "06lj7eq_DwZe"
   },
   "execution_count": 56,
   "outputs": []
  },
  {
   "cell_type": "markdown",
   "source": [
    "13. (2б) Викличте одну з задекорованих функцій і виведіть її результат на екран."
   ],
   "metadata": {
    "id": "P0ep1urBDzf-"
   }
  },
  {
   "cell_type": "code",
   "source": [
    "print(divide(6, 3))\n",
    "print(substraction(3))"
   ],
   "metadata": {
    "id": "1QvTw0ctD0S3",
    "colab": {
     "base_uri": "https://localhost:8080/"
    },
    "outputId": "f2e8e6f1-8f15-4cd6-eac6-444a9ddcfe34"
   },
   "execution_count": 57,
   "outputs": [
    {
     "output_type": "stream",
     "name": "stdout",
     "text": [
      "Decorator starts with function: divide\n",
      "Decorator finishes with function: divide\n",
      "2.0\n",
      "Decorator starts with function: substraction\n",
      "Decorator finishes with function: substraction\n",
      "2\n"
     ]
    }
   ]
  },
  {
   "cell_type": "markdown",
   "source": [
    "# IV. Recursion."
   ],
   "metadata": {
    "id": "poECCpuoD2S9"
   }
  },
  {
   "cell_type": "markdown",
   "source": [
    "14. (4б) Назвіть дві частини функції, які є обовʼязковими для того, щоб називати її рекурсивною."
   ],
   "metadata": {
    "id": "DqkURfdsD7MY"
   }
  },
  {
   "cell_type": "markdown",
   "source": [
    "stop condition\n",
    "recursive call"
   ],
   "metadata": {
    "id": "HYW6ttIeIQIU"
   }
  },
  {
   "cell_type": "markdown",
   "source": [
    "15. (15б) Визначте функцію, яка рекурсивно реалізовує пошук числа у послідовності Фібоначчі за її індексом (нумерація починається з нуля). Наприклад, потрібно знайти перше число у послідовності, тоді функція прийматиме 0 у якості аргумента і повертатиме 1, якщо ж знаходити третє число (індекс 2) послідовності, то функція повертатиме 2, якщо ж знаходити десяте число (індекс 9), то функція повертатиме 55."
   ],
   "metadata": {
    "id": "WYVt20UmEA35"
   }
  },
  {
   "cell_type": "code",
   "source": [
    "def fibonacci(number):\n",
    "  if number <= 1:\n",
    "    return 1\n",
    "  return fibonacci(number - 2) + fibonacci(number - 1)\n",
    "print(fibonacci(0))\n",
    "print(fibonacci(2))\n",
    "print(fibonacci(9))\n",
    "print(fibonacci(10))"
   ],
   "metadata": {
    "id": "xIMhp05AIpV_",
    "colab": {
     "base_uri": "https://localhost:8080/"
    },
    "outputId": "6279ed66-83b2-42e7-89b4-3957c7d770d3"
   },
   "execution_count": 75,
   "outputs": [
    {
     "output_type": "stream",
     "name": "stdout",
     "text": [
      "1\n",
      "2\n",
      "55\n",
      "89\n"
     ]
    }
   ]
  },
  {
   "cell_type": "markdown",
   "source": [
    "# Вітаю! Ви велика(ий) молодець, що впоралась(вся). Похваліть себе та побалуйте чимось приємним. Я Вами пишаюся."
   ],
   "metadata": {
    "id": "ytXC8n_4Ip0W"
   }
  }
 ]
}
